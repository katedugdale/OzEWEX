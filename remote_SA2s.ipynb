{
 "cells": [
  {
   "cell_type": "code",
   "execution_count": 1,
   "metadata": {},
   "outputs": [],
   "source": [
    "%matplotlib inline\n",
    "\n",
    "import sys\n",
    "\n",
    "import datacube\n",
    "import numpy as np\n",
    "import pandas as pd\n",
    "import xarray as xr\n",
    "import matplotlib.pyplot as plt\n",
    "import geopandas as gpd\n",
    "import ipyleaflet as ipyl\n",
    "import ipywidgets as ipyw\n",
    "import json\n",
    "\n",
    "\n",
    "import matplotlib as mpl\n",
    "import matplotlib.colors\n",
    "from matplotlib import cm\n",
    "from matplotlib.colors import LinearSegmentedColormap\n",
    "from colorspacious import cspace_converter\n",
    "from collections import OrderedDict\n",
    "from branca.colormap import linear\n",
    "\n",
    "cmaps = OrderedDict()"
   ]
  },
  {
   "cell_type": "code",
   "execution_count": 18,
   "metadata": {},
   "outputs": [
    {
     "data": {
      "text/html": [
       "<div>\n",
       "<style scoped>\n",
       "    .dataframe tbody tr th:only-of-type {\n",
       "        vertical-align: middle;\n",
       "    }\n",
       "\n",
       "    .dataframe tbody tr th {\n",
       "        vertical-align: top;\n",
       "    }\n",
       "\n",
       "    .dataframe thead th {\n",
       "        text-align: right;\n",
       "    }\n",
       "</style>\n",
       "<table border=\"1\" class=\"dataframe\">\n",
       "  <thead>\n",
       "    <tr style=\"text-align: right;\">\n",
       "      <th></th>\n",
       "      <th>geometry</th>\n",
       "      <th>Name</th>\n",
       "    </tr>\n",
       "    <tr>\n",
       "      <th>SA2</th>\n",
       "      <th></th>\n",
       "      <th></th>\n",
       "    </tr>\n",
       "  </thead>\n",
       "  <tbody>\n",
       "    <tr>\n",
       "      <th>312011339</th>\n",
       "      <td>POLYGON ((146.78668 -23.07598, 146.78592 -23.0...</td>\n",
       "      <td>Clermont</td>\n",
       "    </tr>\n",
       "    <tr>\n",
       "      <th>315011395</th>\n",
       "      <td>MULTIPOLYGON (((142.18514 -12.61155, 142.12905...</td>\n",
       "      <td>Aurukun</td>\n",
       "    </tr>\n",
       "    <tr>\n",
       "      <th>315011396</th>\n",
       "      <td>MULTIPOLYGON (((144.89238 -14.43543, 144.89227...</td>\n",
       "      <td>Cape York</td>\n",
       "    </tr>\n",
       "    <tr>\n",
       "      <th>315011397</th>\n",
       "      <td>POLYGON ((141.39550 -18.05384, 141.40022 -18.0...</td>\n",
       "      <td>Croydon - Etheridge</td>\n",
       "    </tr>\n",
       "    <tr>\n",
       "      <th>315011398</th>\n",
       "      <td>MULTIPOLYGON (((141.59026 -14.16497, 141.58957...</td>\n",
       "      <td>Kowanyama - Pormpuraaw</td>\n",
       "    </tr>\n",
       "  </tbody>\n",
       "</table>\n",
       "</div>"
      ],
      "text/plain": [
       "                                                    geometry  \\\n",
       "SA2                                                            \n",
       "312011339  POLYGON ((146.78668 -23.07598, 146.78592 -23.0...   \n",
       "315011395  MULTIPOLYGON (((142.18514 -12.61155, 142.12905...   \n",
       "315011396  MULTIPOLYGON (((144.89238 -14.43543, 144.89227...   \n",
       "315011397  POLYGON ((141.39550 -18.05384, 141.40022 -18.0...   \n",
       "315011398  MULTIPOLYGON (((141.59026 -14.16497, 141.58957...   \n",
       "\n",
       "                             Name  \n",
       "SA2                                \n",
       "312011339                Clermont  \n",
       "315011395                 Aurukun  \n",
       "315011396               Cape York  \n",
       "315011397     Croydon - Etheridge  \n",
       "315011398  Kowanyama - Pormpuraaw  "
      ]
     },
     "execution_count": 18,
     "metadata": {},
     "output_type": "execute_result"
    }
   ],
   "source": [
    "shp_file_location = 'ABS_shapefiles/SA2_2016_AUST/SA2_2016_AUST.shp'\n",
    "\n",
    "csv_file_location = 'ABS_csv_files/Northern Australia remote SA2s.csv' \n",
    "\n",
    "df = pd.read_csv(csv_file_location)\n",
    "df = df.set_index(\"SA2 code\")\n",
    "df = df.sort_index()\n",
    "\n",
    "gdf = gpd.read_file(shp_file_location)\n",
    "gdf = gdf.rename(columns={'SA2_MAIN16':'SA2'})\n",
    "gdf = gdf.set_index('SA2')\n",
    "gdf = gdf.sort_index()\n",
    "gdf = gdf.drop(columns=['SA2_5DIG16', 'SA2_NAME16', 'SA3_CODE16', 'SA3_NAME16', 'SA4_CODE16', 'SA4_NAME16',\n",
    "                        'GCC_CODE16', 'GCC_NAME16', 'STE_CODE16', 'STE_NAME16', 'AREASQKM16'])\n",
    "\n",
    "SA2_index = df.index\n",
    "\n",
    "SA2_list = SA2_index.tolist()\n",
    "SA2_string = str(SA2_list)\n",
    "SA2 = SA2_string.replace(\"[\",\"\").replace(\"]\",\"\").replace(\" \",\"\")\n",
    "SA2 = SA2.split(\",\")\n",
    "\n",
    "gdf = gdf[gdf.index.isin(SA2)]\n",
    "new_gdf = gdf.merge(df, on=gdf.index)\n",
    "new_gdf = new_gdf.rename(columns={'key_0':'SA2'})\n",
    "new_gdf = new_gdf.set_index('SA2')\n",
    "new_gdf.head()"
   ]
  },
  {
   "cell_type": "code",
   "execution_count": 22,
   "metadata": {},
   "outputs": [
    {
     "data": {
      "application/vnd.jupyter.widget-view+json": {
       "model_id": "89cfb66184914c8a9bd47e22699b8aec",
       "version_major": 2,
       "version_minor": 0
      },
      "text/plain": [
       "VBox(children=(Map(basemap={'url': 'https://{s}.tile.openstreetmap.org/{z}/{x}/{y}.png', 'max_zoom': 19, 'attr…"
      ]
     },
     "metadata": {},
     "output_type": "display_data"
    }
   ],
   "source": [
    "#Converting the data to json\n",
    "data = json.loads(new_gdf.to_json())\n",
    "\n",
    "map = ipyl.Map(center=[-19.3, 134], zoom=5)\n",
    "\n",
    "label = ipyw.Label(layout=ipyw.Layout(width='100%'))\n",
    "\n",
    "for feature in data['features']:\n",
    "    feature['properties']['style'] = {\n",
    "        'color': 'grey',\n",
    "        'weight': 1,\n",
    "        'fillColor': 'grey',\n",
    "        'fillOpacity': 0.5\n",
    "    }\n",
    "layer = ipyl.GeoJSON(data=data, hover_style={'fillColor': 'red'})\n",
    "\n",
    "def click_handler(event=None, feature=None, id=None, properties=None):\n",
    "    label.value = str(properties['Name'])\n",
    "    \n",
    "    \n",
    "layer.on_hover(click_handler)\n",
    "map.add_layer(layer)\n",
    "\n",
    "\n",
    "ipyw.VBox([map, label])"
   ]
  },
  {
   "cell_type": "code",
   "execution_count": null,
   "metadata": {},
   "outputs": [],
   "source": []
  }
 ],
 "metadata": {
  "kernelspec": {
   "display_name": "Python 3",
   "language": "python",
   "name": "python3"
  },
  "language_info": {
   "codemirror_mode": {
    "name": "ipython",
    "version": 3
   },
   "file_extension": ".py",
   "mimetype": "text/x-python",
   "name": "python",
   "nbconvert_exporter": "python",
   "pygments_lexer": "ipython3",
   "version": "3.6.9"
  }
 },
 "nbformat": 4,
 "nbformat_minor": 4
}
