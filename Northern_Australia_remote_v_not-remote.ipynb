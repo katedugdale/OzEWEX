{
 "cells": [
  {
   "cell_type": "code",
   "execution_count": 2,
   "metadata": {},
   "outputs": [],
   "source": [
    "%matplotlib inline\n",
    "\n",
    "import sys\n",
    "\n",
    "import datacube\n",
    "import numpy as np\n",
    "import pandas as pd\n",
    "import xarray as xr\n",
    "import matplotlib.pyplot as plt\n",
    "import geopandas as gpd\n",
    "import ipyleaflet as ipyl\n",
    "import ipywidgets as ipyw\n",
    "import json\n",
    "\n",
    "\n",
    "import matplotlib as mpl\n",
    "import matplotlib.colors\n",
    "from matplotlib import cm\n",
    "from matplotlib.colors import LinearSegmentedColormap\n",
    "from colorspacious import cspace_converter\n",
    "from collections import OrderedDict\n",
    "from branca.colormap import linear\n",
    "\n",
    "cmaps = OrderedDict()"
   ]
  },
  {
   "cell_type": "code",
   "execution_count": 18,
   "metadata": {},
   "outputs": [],
   "source": [
    "shp_file_location = 'ABS_shapefiles/SA2_2016_AUST/SA2_2016_AUST.shp'\n",
    "\n",
    "csv_file_location0 = 'ABS_csv_files/Northern Australia remote SA2s.csv'\n",
    "csv_file_location1 = 'ABS_csv_files/Northern Australia SA2s in non-remote areas.csv'\n",
    "\n",
    "#Read the SA2 shapefile\n",
    "gdf = gpd.read_file(shp_file_location)\n",
    "gdf = gdf.rename(columns={'SA2_MAIN16':'SA2'})\n",
    "gdf = gdf.set_index('SA2')\n",
    "gdf = gdf.sort_index()\n",
    "gdf = gdf.drop(columns=['SA2_5DIG16', 'SA2_NAME16', 'SA3_CODE16', 'SA3_NAME16', 'SA4_CODE16', 'SA4_NAME16',\n",
    "                        'GCC_CODE16', 'GCC_NAME16', 'STE_CODE16', 'STE_NAME16', 'AREASQKM16'])\n",
    "\n",
    "\n",
    "#Read the remote csv file and clip shapefile\n",
    "df0 = pd.read_csv(csv_file_location0)\n",
    "df0 = df0.set_index(\"SA2 code\")\n",
    "df0 = df0.sort_index()\n",
    "\n",
    "SA2_index0 = df0.index\n",
    "SA2_list0 = SA2_index0.tolist()\n",
    "SA2_string0 = str(SA2_list0)\n",
    "SA20 = SA2_string0.replace(\"[\",\"\").replace(\"]\",\"\").replace(\" \",\"\")\n",
    "SA20 = SA20.split(\",\")\n",
    "\n",
    "gdf0 = gdf[gdf.index.isin(SA20)]\n",
    "new_gdf0 = gdf0.merge(df0, on=gdf0.index)\n",
    "new_gdf0 = new_gdf0.rename(columns={'key_0':'SA2'})\n",
    "new_gdf0 = new_gdf0.set_index('SA2')\n",
    "\n",
    "\n",
    "#Read the non-remote csv file and clip shapefile\n",
    "df1 = pd.read_csv(csv_file_location1)\n",
    "df1 = df1.set_index(\"SA2 code\")\n",
    "df1 = df1.sort_index()\n",
    "\n",
    "SA2_index1 = df1.index\n",
    "SA2_list1 = SA2_index1.tolist()\n",
    "SA2_string1 = str(SA2_list1)\n",
    "SA21 = SA2_string1.replace(\"[\",\"\").replace(\"]\",\"\").replace(\" \",\"\")\n",
    "SA21 = SA21.split(\",\")\n",
    "\n",
    "gdf1 = gdf[gdf.index.isin(SA21)]\n",
    "new_gdf1 = gdf1.merge(df1, on=gdf1.index)\n",
    "new_gdf1 = new_gdf1.rename(columns={'key_0':'SA2'})\n",
    "new_gdf1 = new_gdf1.set_index('SA2')"
   ]
  },
  {
   "cell_type": "code",
   "execution_count": 21,
   "metadata": {},
   "outputs": [
    {
     "data": {
      "application/vnd.jupyter.widget-view+json": {
       "model_id": "542400e4e55b449d9e90ea800ddb37bc",
       "version_major": 2,
       "version_minor": 0
      },
      "text/plain": [
       "VBox(children=(Map(basemap={'url': 'https://{s}.tile.openstreetmap.org/{z}/{x}/{y}.png', 'max_zoom': 19, 'attr…"
      ]
     },
     "metadata": {},
     "output_type": "display_data"
    }
   ],
   "source": [
    "#Converting the data to json\n",
    "data0 = json.loads(new_gdf0.to_json())\n",
    "data1 = json.loads(new_gdf1.to_json())\n",
    "\n",
    "map = ipyl.Map(center=[-19.3, 134], zoom=5)\n",
    "\n",
    "label = ipyw.Label(layout=ipyw.Layout(width='100%'))\n",
    "\n",
    "for feature in data0['features']:\n",
    "    feature['properties']['style'] = {\n",
    "        'color': 'grey',\n",
    "        'weight': 1,\n",
    "        'fillColor': 'grey',\n",
    "        'fillOpacity': 0.5\n",
    "    }\n",
    "layer0 = ipyl.GeoJSON(data=data0, hover_style={'fillColor': 'yellow'})\n",
    "\n",
    "for feature in data1['features']:\n",
    "    feature['properties']['style'] = {\n",
    "        'color': 'red',\n",
    "        'weight': 1,\n",
    "        'fillColor': 'red',\n",
    "        'fillOpacity': 0.5\n",
    "    }\n",
    "layer1 = ipyl.GeoJSON(data=data1, hover_style={'fillColor': 'green'})\n",
    "\n",
    "def click_handler(event=None, feature=None, id=None, properties=None):\n",
    "    label.value = str(properties['Name'])\n",
    "    \n",
    "    \n",
    "layer0.on_hover(click_handler)\n",
    "map.add_layer(layer0)\n",
    "\n",
    "layer1.on_hover(click_handler)\n",
    "map.add_layer(layer1)\n",
    "\n",
    "ipyw.VBox([map, label])"
   ]
  },
  {
   "cell_type": "code",
   "execution_count": null,
   "metadata": {},
   "outputs": [],
   "source": []
  }
 ],
 "metadata": {
  "kernelspec": {
   "display_name": "Python 3",
   "language": "python",
   "name": "python3"
  },
  "language_info": {
   "codemirror_mode": {
    "name": "ipython",
    "version": 3
   },
   "file_extension": ".py",
   "mimetype": "text/x-python",
   "name": "python",
   "nbconvert_exporter": "python",
   "pygments_lexer": "ipython3",
   "version": "3.6.9"
  }
 },
 "nbformat": 4,
 "nbformat_minor": 4
}
